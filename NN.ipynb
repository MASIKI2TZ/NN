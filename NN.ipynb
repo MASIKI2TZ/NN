{
 "cells": [
  {
   "cell_type": "code",
   "execution_count": 1,
   "id": "8719f8a5",
   "metadata": {},
   "outputs": [
    {
     "name": "stdout",
     "output_type": "stream",
     "text": [
      "0.12343504475975439\n",
      "0.08704575038441259\n",
      "0.6915881544439755\n",
      "0.08737051994619414\n"
     ]
    }
   ],
   "source": [
    "import numpy as np\n",
    "import pandas as pd\n",
    "\n",
    "rg = np.random.default_rng()\n",
    "def generate_data(n_features, n_values):\n",
    "    features = rg.random((n_features,n_values))\n",
    "    weights = rg.random((1,n_values))[0]\n",
    "    targets = np.random.choice([0,1],n_features)\n",
    "    data = pd.DataFrame(features, columns = [\"x0\",\"x1\",\"x2\"])\n",
    "    data[\"targets\"] = targets\n",
    "    return data, weights\n",
    "bias = 0.5\n",
    "def get_weight_sum(features, weights,bias):\n",
    "    return np.dot(features,weights) + bias\n",
    "def sigmoid(w_sum):\n",
    "    return 1/(1+ np.exp(-w_sum))\n",
    "def cross_entropy(target,prediction):\n",
    "    return -(target*np.log10(prediction)+(1-target)*np.log10(1-prediction))\n",
    "def update_weights(weights, l_rate,target, prediction,features):\n",
    "    new_weights = []\n",
    "    for x, w in zip(features, weights):\n",
    "        new_w = w + l_rate*(target - prediction)*x\n",
    "        new_weight.append(new_w)\n",
    "    return new_weight\n",
    "    \n",
    "data, weights = generate_data(4,3)\n",
    "for i in range (len(data)):\n",
    "    features = data.loc[i][:-1]\n",
    "    target  = data.loc[i][-1]\n",
    "    w_sum =  get_weight_sum(features, weights,bias)\n",
    "    prediction = sigmoid(w_sum)\n",
    "    loss = cross_entropy(target,prediction)\n",
    "    print(loss)\n",
    "   "
   ]
  },
  {
   "cell_type": "code",
   "execution_count": null,
   "id": "e4b1eb31",
   "metadata": {},
   "outputs": [],
   "source": []
  }
 ],
 "metadata": {
  "kernelspec": {
   "display_name": "Python 3",
   "language": "python",
   "name": "python3"
  },
  "language_info": {
   "codemirror_mode": {
    "name": "ipython",
    "version": 3
   },
   "file_extension": ".py",
   "mimetype": "text/x-python",
   "name": "python",
   "nbconvert_exporter": "python",
   "pygments_lexer": "ipython3",
   "version": "3.8.8"
  }
 },
 "nbformat": 4,
 "nbformat_minor": 5
}
